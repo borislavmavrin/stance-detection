{
 "cells": [
  {
   "cell_type": "code",
   "execution_count": 1,
   "metadata": {
    "collapsed": false,
    "deletable": true,
    "editable": true
   },
   "outputs": [
    {
     "name": "stdout",
     "output_type": "stream",
     "text": [
      "('Longest tweet', 19)\n",
      "('Longest target', 19)\n"
     ]
    }
   ],
   "source": [
    "from utils import *\n",
    "\n",
    "tweets, targets, labels, ids = readTweetsOfficial(\"trump_autolabelled.txt\",\n",
    "                                                  encoding='utf-8')\n",
    "tweet_tokens = tokenise_tweets(tweets)\n",
    "target_tokens = tokenise_tweets(targets)\n",
    "w2vmodel = word2vec.Word2Vec.load(\"skip_nostop_single_100features_5minwords_5context_big\")\n",
    "# count, dictionary, reverse_dictionary = build_dataset([token for senttoks in tweet_tokens+target_tokens for token in senttoks])  #flatten tweets for vocab construction\n",
    "transformed_tweets = [transform_tweet(w2vmodel, senttoks) for senttoks in tweet_tokens]\n",
    "transformed_targets = [transform_tweet(w2vmodel, senttoks) for senttoks in target_tokens]\n",
    "transformed_labels = transform_labels(labels)\n",
    "print('Longest tweet', len(max(transformed_tweets, key=len)))\n",
    "print('Longest target', len(max(transformed_targets, key=len)))"
   ]
  },
  {
   "cell_type": "code",
   "execution_count": 45,
   "metadata": {
    "collapsed": false,
    "deletable": true,
    "editable": true
   },
   "outputs": [
    {
     "data": {
      "text/plain": [
       "(19,)"
      ]
     },
     "execution_count": 45,
     "metadata": {},
     "output_type": "execute_result"
    }
   ],
   "source": [
    "transformed_tweets[0].shape"
   ]
  },
  {
   "cell_type": "code",
   "execution_count": 6,
   "metadata": {
    "collapsed": false,
    "deletable": true,
    "editable": true
   },
   "outputs": [
    {
     "data": {
      "text/plain": [
       "[u\"i'd\",\n",
       " u'love',\n",
       " u'see',\n",
       " u'#donaldtrump',\n",
       " u'live',\n",
       " u'life',\n",
       " u'average',\n",
       " u'immigrant',\n",
       " u'unk',\n",
       " u\"i'd\",\n",
       " u'surprised',\n",
       " u'survived',\n",
       " u'week',\n",
       " u'#racist',\n",
       " u'#racism',\n",
       " u'unk',\n",
       " u'unk',\n",
       " u'unk',\n",
       " u'unk']"
      ]
     },
     "execution_count": 6,
     "metadata": {},
     "output_type": "execute_result"
    }
   ],
   "source": [
    "[w2vmodel.index2word[word] for word in transformed_tweets[0]]"
   ]
  },
  {
   "cell_type": "code",
   "execution_count": 47,
   "metadata": {
    "collapsed": false
   },
   "outputs": [
    {
     "data": {
      "text/plain": [
       "[u'donald',\n",
       " u'trump',\n",
       " u'unk',\n",
       " u'unk',\n",
       " u'unk',\n",
       " u'unk',\n",
       " u'unk',\n",
       " u'unk',\n",
       " u'unk',\n",
       " u'unk',\n",
       " u'unk',\n",
       " u'unk',\n",
       " u'unk',\n",
       " u'unk',\n",
       " u'unk',\n",
       " u'unk',\n",
       " u'unk',\n",
       " u'unk',\n",
       " u'unk']"
      ]
     },
     "execution_count": 47,
     "metadata": {},
     "output_type": "execute_result"
    }
   ],
   "source": [
    "[w2vmodel.index2word[word] for word in transformed_targets[0]]"
   ]
  },
  {
   "cell_type": "code",
   "execution_count": 9,
   "metadata": {
    "collapsed": false,
    "deletable": true,
    "editable": true
   },
   "outputs": [
    {
     "data": {
      "text/plain": [
       "(36583, 100)"
      ]
     },
     "execution_count": 9,
     "metadata": {},
     "output_type": "execute_result"
    }
   ],
   "source": [
    "w2vmodel.syn0.shape"
   ]
  },
  {
   "cell_type": "code",
   "execution_count": 37,
   "metadata": {
    "collapsed": false,
    "deletable": true,
    "editable": true
   },
   "outputs": [
    {
     "name": "stdout",
     "output_type": "stream",
     "text": [
      "The autoreload extension is already loaded. To reload it, use:\n",
      "  %reload_ext autoreload\n"
     ]
    }
   ],
   "source": [
    "from bicond_tf11 import *\n",
    "# for auto-reloading external modules\n",
    "# see http://stackoverflow.com/questions/1907993/autoreload-of-modules-in-ipython\n",
    "%load_ext autoreload\n",
    "%autoreload 2"
   ]
  },
  {
   "cell_type": "code",
   "execution_count": 133,
   "metadata": {
    "collapsed": false,
    "deletable": true,
    "editable": true
   },
   "outputs": [],
   "source": [
    "learning_rate = 0.0001\n",
    "batch_size = 70\n",
    "sample_size = len(transformed_labels)\n",
    "num_batches = sample_size // batch_size\n",
    "    \n",
    "tf.reset_default_graph()\n",
    "first_seq = tf.placeholder(tf.int32, shape = [None, 19])\n",
    "second_seq = tf.placeholder(tf.int32, shape = [None, 19])\n",
    "first_seq_lens = tf.placeholder(tf.int32, shape = [None])\n",
    "second_seq_lens = tf.placeholder(tf.int32, shape = [None])\n",
    "labels = tf.placeholder(tf.float64, shape=[None, 3])\n",
    "dim = 100\n",
    "num_symbols = len(w2vmodel.vocab)\n",
    "\n",
    "seq_pair_encoding = create_bicond_embeddings_reader(\n",
    "    first_seq,\n",
    "    first_seq_lens,\n",
    "    second_seq,\n",
    "    second_seq_lens,\n",
    "    dim,\n",
    "    num_symbols\n",
    ")\n",
    "\n",
    "W = tf.get_variable(\n",
    "    'W',\n",
    "    shape=[200, 3],\n",
    "    dtype=tf.float64,\n",
    "    initializer=tf.random_normal_initializer()\n",
    ")\n",
    "\n",
    "b = tf.get_variable(\n",
    "    'b',\n",
    "    shape=[3],\n",
    "    dtype=tf.float64,\n",
    "    initializer=tf.constant_initializer(0.0)\n",
    ")\n",
    "\n",
    "logits = tf.tanh(tf.matmul(seq_pair_encoding, W) + b)\n",
    "losses = tf.nn.softmax_cross_entropy_with_logits(labels=labels, logits=logits)\n",
    "loss = tf.reduce_sum(losses)\n",
    "optimizer = tf.train.AdamOptimizer(learning_rate)\n",
    "\n",
    "optimizer_op = optimizer.minimize(loss)\n",
    "\n",
    "\n"
   ]
  },
  {
   "cell_type": "code",
   "execution_count": 148,
   "metadata": {
    "collapsed": false,
    "deletable": true,
    "editable": true
   },
   "outputs": [
    {
     "name": "stdout",
     "output_type": "stream",
     "text": [
      "=====[Epoch 0]=====\n",
      "Batch number: 0\n",
      "Loss: 78.0637767068\n",
      "10980 examples/sec\n",
      "Batch number: 50\n",
      "Loss: 74.8746969654\n",
      "409 examples/sec\n"
     ]
    },
    {
     "ename": "KeyboardInterrupt",
     "evalue": "",
     "output_type": "error",
     "traceback": [
      "\u001b[0;31m---------------------------------------------------------------------------\u001b[0m",
      "\u001b[0;31mKeyboardInterrupt\u001b[0m                         Traceback (most recent call last)",
      "\u001b[0;32m<ipython-input-148-80397f82dc10>\u001b[0m in \u001b[0;36m<module>\u001b[0;34m()\u001b[0m\n\u001b[1;32m     27\u001b[0m                              \u001b[0msecond_seq\u001b[0m\u001b[0;34m:\u001b[0m \u001b[0mtweets_batch\u001b[0m\u001b[0;34m,\u001b[0m\u001b[0;34m\u001b[0m\u001b[0m\n\u001b[1;32m     28\u001b[0m                              \u001b[0msecond_seq_lens\u001b[0m\u001b[0;34m:\u001b[0m \u001b[0mtweets_lens\u001b[0m\u001b[0;34m,\u001b[0m\u001b[0;34m\u001b[0m\u001b[0m\n\u001b[0;32m---> 29\u001b[0;31m                              \u001b[0mlabels\u001b[0m\u001b[0;34m:\u001b[0m \u001b[0mlabels_batch\u001b[0m\u001b[0;34m\u001b[0m\u001b[0m\n\u001b[0m\u001b[1;32m     30\u001b[0m                             }\n\u001b[1;32m     31\u001b[0m             )\n",
      "\u001b[0;32m/usr/local/lib/python2.7/site-packages/tensorflow/python/client/session.pyc\u001b[0m in \u001b[0;36mrun\u001b[0;34m(self, fetches, feed_dict, options, run_metadata)\u001b[0m\n\u001b[1;32m    765\u001b[0m     \u001b[0;32mtry\u001b[0m\u001b[0;34m:\u001b[0m\u001b[0;34m\u001b[0m\u001b[0m\n\u001b[1;32m    766\u001b[0m       result = self._run(None, fetches, feed_dict, options_ptr,\n\u001b[0;32m--> 767\u001b[0;31m                          run_metadata_ptr)\n\u001b[0m\u001b[1;32m    768\u001b[0m       \u001b[0;32mif\u001b[0m \u001b[0mrun_metadata\u001b[0m\u001b[0;34m:\u001b[0m\u001b[0;34m\u001b[0m\u001b[0m\n\u001b[1;32m    769\u001b[0m         \u001b[0mproto_data\u001b[0m \u001b[0;34m=\u001b[0m \u001b[0mtf_session\u001b[0m\u001b[0;34m.\u001b[0m\u001b[0mTF_GetBuffer\u001b[0m\u001b[0;34m(\u001b[0m\u001b[0mrun_metadata_ptr\u001b[0m\u001b[0;34m)\u001b[0m\u001b[0;34m\u001b[0m\u001b[0m\n",
      "\u001b[0;32m/usr/local/lib/python2.7/site-packages/tensorflow/python/client/session.pyc\u001b[0m in \u001b[0;36m_run\u001b[0;34m(self, handle, fetches, feed_dict, options, run_metadata)\u001b[0m\n\u001b[1;32m    963\u001b[0m     \u001b[0;32mif\u001b[0m \u001b[0mfinal_fetches\u001b[0m \u001b[0;32mor\u001b[0m \u001b[0mfinal_targets\u001b[0m\u001b[0;34m:\u001b[0m\u001b[0;34m\u001b[0m\u001b[0m\n\u001b[1;32m    964\u001b[0m       results = self._do_run(handle, final_targets, final_fetches,\n\u001b[0;32m--> 965\u001b[0;31m                              feed_dict_string, options, run_metadata)\n\u001b[0m\u001b[1;32m    966\u001b[0m     \u001b[0;32melse\u001b[0m\u001b[0;34m:\u001b[0m\u001b[0;34m\u001b[0m\u001b[0m\n\u001b[1;32m    967\u001b[0m       \u001b[0mresults\u001b[0m \u001b[0;34m=\u001b[0m \u001b[0;34m[\u001b[0m\u001b[0;34m]\u001b[0m\u001b[0;34m\u001b[0m\u001b[0m\n",
      "\u001b[0;32m/usr/local/lib/python2.7/site-packages/tensorflow/python/client/session.pyc\u001b[0m in \u001b[0;36m_do_run\u001b[0;34m(self, handle, target_list, fetch_list, feed_dict, options, run_metadata)\u001b[0m\n\u001b[1;32m   1013\u001b[0m     \u001b[0;32mif\u001b[0m \u001b[0mhandle\u001b[0m \u001b[0;32mis\u001b[0m \u001b[0mNone\u001b[0m\u001b[0;34m:\u001b[0m\u001b[0;34m\u001b[0m\u001b[0m\n\u001b[1;32m   1014\u001b[0m       return self._do_call(_run_fn, self._session, feed_dict, fetch_list,\n\u001b[0;32m-> 1015\u001b[0;31m                            target_list, options, run_metadata)\n\u001b[0m\u001b[1;32m   1016\u001b[0m     \u001b[0;32melse\u001b[0m\u001b[0;34m:\u001b[0m\u001b[0;34m\u001b[0m\u001b[0m\n\u001b[1;32m   1017\u001b[0m       return self._do_call(_prun_fn, self._session, handle, feed_dict,\n",
      "\u001b[0;32m/usr/local/lib/python2.7/site-packages/tensorflow/python/client/session.pyc\u001b[0m in \u001b[0;36m_do_call\u001b[0;34m(self, fn, *args)\u001b[0m\n\u001b[1;32m   1020\u001b[0m   \u001b[0;32mdef\u001b[0m \u001b[0m_do_call\u001b[0m\u001b[0;34m(\u001b[0m\u001b[0mself\u001b[0m\u001b[0;34m,\u001b[0m \u001b[0mfn\u001b[0m\u001b[0;34m,\u001b[0m \u001b[0;34m*\u001b[0m\u001b[0margs\u001b[0m\u001b[0;34m)\u001b[0m\u001b[0;34m:\u001b[0m\u001b[0;34m\u001b[0m\u001b[0m\n\u001b[1;32m   1021\u001b[0m     \u001b[0;32mtry\u001b[0m\u001b[0;34m:\u001b[0m\u001b[0;34m\u001b[0m\u001b[0m\n\u001b[0;32m-> 1022\u001b[0;31m       \u001b[0;32mreturn\u001b[0m \u001b[0mfn\u001b[0m\u001b[0;34m(\u001b[0m\u001b[0;34m*\u001b[0m\u001b[0margs\u001b[0m\u001b[0;34m)\u001b[0m\u001b[0;34m\u001b[0m\u001b[0m\n\u001b[0m\u001b[1;32m   1023\u001b[0m     \u001b[0;32mexcept\u001b[0m \u001b[0merrors\u001b[0m\u001b[0;34m.\u001b[0m\u001b[0mOpError\u001b[0m \u001b[0;32mas\u001b[0m \u001b[0me\u001b[0m\u001b[0;34m:\u001b[0m\u001b[0;34m\u001b[0m\u001b[0m\n\u001b[1;32m   1024\u001b[0m       \u001b[0mmessage\u001b[0m \u001b[0;34m=\u001b[0m \u001b[0mcompat\u001b[0m\u001b[0;34m.\u001b[0m\u001b[0mas_text\u001b[0m\u001b[0;34m(\u001b[0m\u001b[0me\u001b[0m\u001b[0;34m.\u001b[0m\u001b[0mmessage\u001b[0m\u001b[0;34m)\u001b[0m\u001b[0;34m\u001b[0m\u001b[0m\n",
      "\u001b[0;32m/usr/local/lib/python2.7/site-packages/tensorflow/python/client/session.pyc\u001b[0m in \u001b[0;36m_run_fn\u001b[0;34m(session, feed_dict, fetch_list, target_list, options, run_metadata)\u001b[0m\n\u001b[1;32m   1002\u001b[0m         return tf_session.TF_Run(session, options,\n\u001b[1;32m   1003\u001b[0m                                  \u001b[0mfeed_dict\u001b[0m\u001b[0;34m,\u001b[0m \u001b[0mfetch_list\u001b[0m\u001b[0;34m,\u001b[0m \u001b[0mtarget_list\u001b[0m\u001b[0;34m,\u001b[0m\u001b[0;34m\u001b[0m\u001b[0m\n\u001b[0;32m-> 1004\u001b[0;31m                                  status, run_metadata)\n\u001b[0m\u001b[1;32m   1005\u001b[0m \u001b[0;34m\u001b[0m\u001b[0m\n\u001b[1;32m   1006\u001b[0m     \u001b[0;32mdef\u001b[0m \u001b[0m_prun_fn\u001b[0m\u001b[0;34m(\u001b[0m\u001b[0msession\u001b[0m\u001b[0;34m,\u001b[0m \u001b[0mhandle\u001b[0m\u001b[0;34m,\u001b[0m \u001b[0mfeed_dict\u001b[0m\u001b[0;34m,\u001b[0m \u001b[0mfetch_list\u001b[0m\u001b[0;34m)\u001b[0m\u001b[0;34m:\u001b[0m\u001b[0;34m\u001b[0m\u001b[0m\n",
      "\u001b[0;31mKeyboardInterrupt\u001b[0m: "
     ]
    }
   ],
   "source": [
    "import time\n",
    "targets_np = np.array(transformed_targets, dtype=np.int32)\n",
    "tweets_np = np.array(transformed_tweets, dtype=np.int32)\n",
    "labels_np = np.array(transformed_labels, dtype=np.float64)\n",
    "epochs = 8\n",
    "\n",
    "init = tf.global_variables_initializer()\n",
    "with tf.Session() as sess:\n",
    "    total_t = 0\n",
    "    sess.run(init)\n",
    "    for epoch in xrange(epochs):\n",
    "        print('=' * 5 + \"[Epoch \" + str(epoch) + ']' + '=' * 5)\n",
    "        for batch in xrange(num_batches):\n",
    "            start_t = time.time()\n",
    "            idx = np.random.choice(sample_size, batch_size)\n",
    "            targets_batch = targets_np[idx]\n",
    "            targets_lens = 19 * np.ones(batch_size)\n",
    "            tweets_batch = tweets_np[idx]\n",
    "            tweets_lens = 19 * np.ones(batch_size)\n",
    "            labels_batch = labels_np[idx]\n",
    "\n",
    "            _, loss_np = sess.run(\n",
    "                [optimizer_op,\n",
    "                loss],\n",
    "                feed_dict = {first_seq: targets_batch,\n",
    "                             first_seq_lens: targets_lens,\n",
    "                             second_seq: tweets_batch,\n",
    "                             second_seq_lens: tweets_lens,\n",
    "                             labels: labels_batch\n",
    "                            }\n",
    "            )\n",
    "            total_t += time.time() - start_t\n",
    "            if batch % 50 is 0:\n",
    "                print(\"Batch number: \" + str(batch))\n",
    "                print(\"Loss: \" + str(loss_np))\n",
    "                print(str(int(50 * batch_size / total_t)) + \" examples/sec\")\n",
    "                total_t = 0\n"
   ]
  },
  {
   "cell_type": "code",
   "execution_count": 137,
   "metadata": {
    "collapsed": false
   },
   "outputs": [
    {
     "data": {
      "text/plain": [
       "18760"
      ]
     },
     "execution_count": 137,
     "metadata": {},
     "output_type": "execute_result"
    }
   ],
   "source": [
    "batch_size * num_batches"
   ]
  },
  {
   "cell_type": "code",
   "execution_count": 138,
   "metadata": {
    "collapsed": false
   },
   "outputs": [
    {
     "data": {
      "text/plain": [
       "18760"
      ]
     },
     "execution_count": 138,
     "metadata": {},
     "output_type": "execute_result"
    }
   ],
   "source": [
    "len(tweets_np)"
   ]
  }
 ],
 "metadata": {
  "kernelspec": {
   "display_name": "Python 2",
   "language": "python",
   "name": "python2"
  },
  "language_info": {
   "codemirror_mode": {
    "name": "ipython",
    "version": 2
   },
   "file_extension": ".py",
   "mimetype": "text/x-python",
   "name": "python",
   "nbconvert_exporter": "python",
   "pygments_lexer": "ipython2",
   "version": "2.7.13"
  }
 },
 "nbformat": 4,
 "nbformat_minor": 2
}
