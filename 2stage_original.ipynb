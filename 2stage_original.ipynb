{
 "cells": [
  {
   "cell_type": "code",
   "execution_count": 1,
   "metadata": {
    "collapsed": false
   },
   "outputs": [
    {
     "name": "stdout",
     "output_type": "stream",
     "text": [
      "Loading word2vec data ...\n",
      "Loading train data ...\n",
      "Loading dev data ...\n",
      "Loading test data ...\n"
     ]
    }
   ],
   "source": [
    "import tensorflow as tf\n",
    "from utils import *\n",
    "from bicond_tf10 import create_bicond_embeddings_reader\n",
    "import time\n",
    "import subprocess\n",
    "from gensim.models import word2vec\n",
    "import model_condBiRNN_wdev\n",
    "\n",
    "config = model_condBiRNN_wdev.Config()\n",
    "config.debug = False\n",
    "config.epochs = 8\n",
    "model = model_condBiRNN_wdev.biRNN_model(config)\n",
    "\n",
    "init = tf.global_variables_initializer()"
   ]
  },
  {
   "cell_type": "code",
   "execution_count": 2,
   "metadata": {
    "collapsed": false
   },
   "outputs": [],
   "source": [
    "with tf.Session() as session_tf:\n",
    "    session_tf.run(init)\n",
    "\n",
    "    # classifying lables for the true stage_2 data in order to measure stage_2\n",
    "    # perforamnce independently\n",
    "    labels_pred = model.predict(\n",
    "        session_tf,\n",
    "        model.encoded_targets_test,\n",
    "        model.encoded_tweets_test)\n",
    "    output = model.test_data_evaluation(session_tf)"
   ]
  },
  {
   "cell_type": "code",
   "execution_count": 3,
   "metadata": {
    "collapsed": false,
    "deletable": true,
    "editable": true
   },
   "outputs": [
    {
     "name": "stdout",
     "output_type": "stream",
     "text": [
      "0.429985855728\n"
     ]
    }
   ],
   "source": [
    "# accuracy\n",
    "labels_gr = []\n",
    "\n",
    "for label in model.labels_test:\n",
    "    if label == u'NONE':\n",
    "        labels_gr.append(0)\n",
    "    elif label == u'AGAINST':\n",
    "        labels_gr.append(1)\n",
    "    elif label == u'FAVOR':\n",
    "        labels_gr.append(2)\n",
    "\n",
    "accuracies = []\n",
    "for idx in xrange(len(labels_pred)):\n",
    "    if labels_pred[idx] == labels_gr[idx]:\n",
    "        accuracies.append(1)\n",
    "    else:\n",
    "        accuracies.append(0)\n",
    "accuracy = float(sum(accuracies)) / len(accuracies)\n",
    "print(accuracy)"
   ]
  },
  {
   "cell_type": "code",
   "execution_count": 4,
   "metadata": {
    "collapsed": true
   },
   "outputs": [],
   "source": [
    "res = [0.427157001414, 0.431400282885, 0.428571428571, 0.432814710042, 0.435643564356]"
   ]
  },
  {
   "cell_type": "code",
   "execution_count": 20,
   "metadata": {
    "collapsed": false
   },
   "outputs": [
    {
     "data": {
      "text/plain": [
       "0.43111739745359995"
      ]
     },
     "execution_count": 20,
     "metadata": {},
     "output_type": "execute_result"
    }
   ],
   "source": [
    "np.mean(res)"
   ]
  },
  {
   "cell_type": "code",
   "execution_count": 21,
   "metadata": {
    "collapsed": false
   },
   "outputs": [
    {
     "data": {
      "text/plain": [
       "0.0030203898874174373"
      ]
     },
     "execution_count": 21,
     "metadata": {},
     "output_type": "execute_result"
    }
   ],
   "source": [
    "np.std(res)"
   ]
  },
  {
   "cell_type": "code",
   "execution_count": 6,
   "metadata": {
    "collapsed": false
   },
   "outputs": [
    {
     "name": "stdout",
     "output_type": "stream",
     "text": [
      "\n",
      "\n",
      "============\n",
      "Results\t\t\t\t \n",
      "============\n",
      "FAVOR     precision: 0.6667 recall: 0.3919 f-score: 0.4936\n",
      "AGAINST   precision: 0.5904 recall: 0.4916 f-score: 0.5365\n",
      "------------\n",
      "Macro F: 0.5151\n",
      "\n",
      "\n"
     ]
    }
   ],
   "source": [
    "print(output)"
   ]
  },
  {
   "cell_type": "code",
   "execution_count": 7,
   "metadata": {
    "collapsed": false
   },
   "outputs": [
    {
     "data": {
      "text/plain": [
       "1876"
      ]
     },
     "execution_count": 7,
     "metadata": {},
     "output_type": "execute_result"
    }
   ],
   "source": [
    "model.dev_data_size"
   ]
  },
  {
   "cell_type": "code",
   "execution_count": 8,
   "metadata": {
    "collapsed": false
   },
   "outputs": [
    {
     "data": {
      "text/plain": [
       "16884"
      ]
     },
     "execution_count": 8,
     "metadata": {},
     "output_type": "execute_result"
    }
   ],
   "source": [
    "model.train_data_size"
   ]
  },
  {
   "cell_type": "code",
   "execution_count": 9,
   "metadata": {
    "collapsed": false
   },
   "outputs": [
    {
     "data": {
      "text/plain": [
       "707"
      ]
     },
     "execution_count": 9,
     "metadata": {},
     "output_type": "execute_result"
    }
   ],
   "source": [
    "model.test_data_size"
   ]
  },
  {
   "cell_type": "code",
   "execution_count": 10,
   "metadata": {
    "collapsed": false
   },
   "outputs": [
    {
     "data": {
      "text/plain": [
       "0.03631787126932758"
      ]
     },
     "execution_count": 10,
     "metadata": {},
     "output_type": "execute_result"
    }
   ],
   "source": [
    "707. / 19467"
   ]
  },
  {
   "cell_type": "code",
   "execution_count": 11,
   "metadata": {
    "collapsed": false
   },
   "outputs": [
    {
     "data": {
      "text/plain": [
       "18760"
      ]
     },
     "execution_count": 11,
     "metadata": {},
     "output_type": "execute_result"
    }
   ],
   "source": [
    "1876 + 16884"
   ]
  },
  {
   "cell_type": "code",
   "execution_count": 12,
   "metadata": {
    "collapsed": false
   },
   "outputs": [
    {
     "data": {
      "text/plain": [
       "0.09636821287306724"
      ]
     },
     "execution_count": 12,
     "metadata": {},
     "output_type": "execute_result"
    }
   ],
   "source": [
    "1876. / 19467"
   ]
  },
  {
   "cell_type": "code",
   "execution_count": 13,
   "metadata": {
    "collapsed": false
   },
   "outputs": [
    {
     "data": {
      "text/plain": [
       "299"
      ]
     },
     "execution_count": 13,
     "metadata": {},
     "output_type": "execute_result"
    }
   ],
   "source": [
    "len(filter(lambda x: x[1] == 1, model.encoded_labels_test))"
   ]
  },
  {
   "cell_type": "code",
   "execution_count": 14,
   "metadata": {
    "collapsed": false
   },
   "outputs": [],
   "source": [
    "with tf.Session() as session_tf:\n",
    "    session_tf.run(init)\n",
    "    model.saver.restore(session_tf, model.config.tf_saver_folder +\n",
    "                       model.config.model_name)\n",
    "    keep_prob = 1.0\n",
    "    targets_lens = np.array(\n",
    "        model.config.source_len * np.ones(model.test_data_size),\n",
    "        dtype=model.config.int_type_np\n",
    "    )\n",
    "    tweets_lens = np.array(\n",
    "        model.config.target_len * np.ones(model.test_data_size),\n",
    "        dtype=model.config.int_type_np\n",
    "    )\n",
    "    predicted_probs = session_tf.run(\n",
    "        model.probs,\n",
    "        feed_dict={\n",
    "            model.source_placeholder: model.encoded_targets_test,\n",
    "            model.source_len_placeholder: targets_lens,\n",
    "            model.target_placeholder: model.encoded_tweets_test,\n",
    "            model.target_len_placeholder: tweets_lens,\n",
    "            model.keep_prob_placeholder: keep_prob\n",
    "        }\n",
    "    )\n",
    "    '''Postprocessing of predicted_labels in order to refine 'NONE'.\n",
    "    If a tweet has one of the keywords for Trump, its predicted label is\n",
    "    forced to be AGAINST/FAVOR acoording to the predicted distribution.'''\n",
    "    predicted_labels = np.argmax(predicted_probs, axis=1)\n",
    "    target_keywords = ['donald trump', 'trump', 'donald']\n",
    "    for idx, tweet in enumerate(model.tweets_test):\n",
    "        for key in target_keywords:\n",
    "            if key.lower() in tweet.lower():\n",
    "                if predicted_probs[idx][1] > predicted_probs[idx][2]:\n",
    "                    predicted_labels[idx] = 1\n",
    "                else:\n",
    "                    predicted_labels[idx] = 2\n",
    "                break\n",
    "\n",
    "    predictions_lines = []\n",
    "    label_names = np.array([\"NONE\", \"AGAINST\", \"FAVOR\"])\n",
    "    header = \"ID\\tTarget\\tTweet\\tStance\\n\"\n",
    "    labels = label_names[predicted_labels]"
   ]
  },
  {
   "cell_type": "code",
   "execution_count": 15,
   "metadata": {
    "collapsed": false
   },
   "outputs": [
    {
     "name": "stdout",
     "output_type": "stream",
     "text": [
      "0.635077793494\n"
     ]
    }
   ],
   "source": [
    "# accuracy\n",
    "labels_gr = []\n",
    "\n",
    "for label in model.labels_test:\n",
    "    if label == u'NONE':\n",
    "        labels_gr.append(0)\n",
    "    elif label == u'AGAINST':\n",
    "        labels_gr.append(1)\n",
    "    elif label == u'FAVOR':\n",
    "        labels_gr.append(2)\n",
    "        \n",
    "labels_pr = []\n",
    "        \n",
    "for label in labels:\n",
    "    if label == u'NONE':\n",
    "        labels_pr.append(0)\n",
    "    elif label == u'AGAINST':\n",
    "        labels_pr.append(1)\n",
    "    elif label == u'FAVOR':\n",
    "        labels_pr.append(2)\n",
    "\n",
    "accuracies = []\n",
    "for idx in xrange(len(labels_pr)):\n",
    "    if labels_pr[idx] == labels_gr[idx]:\n",
    "        accuracies.append(1)\n",
    "    else:\n",
    "        accuracies.append(0)\n",
    "accuracy = float(sum(accuracies)) / len(accuracies)\n",
    "print(accuracy)"
   ]
  },
  {
   "cell_type": "code",
   "execution_count": 17,
   "metadata": {
    "collapsed": true
   },
   "outputs": [],
   "source": [
    "res1 = [0.629420084866, 0.625176803395, 0.639321074965, 0.630834512023, 0.635077793494]"
   ]
  },
  {
   "cell_type": "code",
   "execution_count": 22,
   "metadata": {
    "collapsed": false
   },
   "outputs": [
    {
     "data": {
      "text/plain": [
       "0.63196605374859993"
      ]
     },
     "execution_count": 22,
     "metadata": {},
     "output_type": "execute_result"
    }
   ],
   "source": [
    "np.mean(res1)"
   ]
  },
  {
   "cell_type": "code",
   "execution_count": 23,
   "metadata": {
    "collapsed": false
   },
   "outputs": [
    {
     "data": {
      "text/plain": [
       "0.0048504747381796507"
      ]
     },
     "execution_count": 23,
     "metadata": {},
     "output_type": "execute_result"
    }
   ],
   "source": [
    "np.std(res1)"
   ]
  },
  {
   "cell_type": "code",
   "execution_count": null,
   "metadata": {
    "collapsed": true
   },
   "outputs": [],
   "source": []
  }
 ],
 "metadata": {
  "kernelspec": {
   "display_name": "Python 2",
   "language": "python",
   "name": "python2"
  },
  "language_info": {
   "codemirror_mode": {
    "name": "ipython",
    "version": 2
   },
   "file_extension": ".py",
   "mimetype": "text/x-python",
   "name": "python",
   "nbconvert_exporter": "python",
   "pygments_lexer": "ipython2",
   "version": "2.7.13"
  }
 },
 "nbformat": 4,
 "nbformat_minor": 2
}
